{
 "cells": [
  {
   "cell_type": "markdown",
   "metadata": {},
   "source": [
    "# Latent Dirichlet Allocation"
   ]
  },
  {
   "cell_type": "code",
   "execution_count": 10,
   "metadata": {},
   "outputs": [],
   "source": [
    "import numpy as np\n",
    "from collections import Counter\n",
    "import random\n",
    "from operator import itemgetter\n",
    "import pandas as pd\n",
    "import time\n",
    "from scipy.special import expit\n",
    "from sklearn.metrics import accuracy_score\n",
    "import math\n",
    "from numpy import linalg as LA\n",
    "from numpy.linalg import inv\n",
    "from sklearn.model_selection import train_test_split\n",
    "import statistics as stat\n",
    "import matplotlib.pyplot as plt\n",
    "import warnings\n",
    "import time\n",
    "\n",
    "warnings.filterwarnings(\"ignore\", category=RuntimeWarning)\n",
    "start = time.time()"
   ]
  },
  {
   "cell_type": "code",
   "execution_count": 11,
   "metadata": {},
   "outputs": [],
   "source": [
    "file_list = []\n",
    "total_counter = Counter()\n",
    "words = []\n",
    "docs = []\n",
    "K = 2\n",
    "topics = []\n",
    "for i in range(1,11,1):\n",
    "    file_name = r\"pp4data\\pp4data\\artificial\\\\\" + str(i)\n",
    "    with open(file_name) as file:\n",
    "        file_data = file.read()\n",
    "        c = Counter(file_data.split())\n",
    "        for word in (file_data.split()):\n",
    "            words.append(word)\n",
    "            docs.append(i - 1)\n",
    "            topics.append(random.randint(0, K - 1))\n",
    "        file_list.append(c)\n",
    "        total_counter+=c"
   ]
  },
  {
   "cell_type": "code",
   "execution_count": 12,
   "metadata": {},
   "outputs": [],
   "source": [
    "# K denotes the no of topics\n",
    "alpha = 2.5\n",
    "beta = 0.01\n",
    "topic_in_doc = []\n",
    "for d in range(10):\n",
    "    topic_in_doc.append([0 for i in range(K)])\n",
    "    \n",
    "for i in range(len(words)):\n",
    "    topic_in_doc[docs[i]][topics[i]]+=1\n",
    "    \n",
    "#print(topic_in_doc)\n",
    "word_in_topic = [{} for i in range(K)]\n",
    "\n",
    "for i in range(len(words)):\n",
    "    if words[i] in word_in_topic[topics[i]]:\n",
    "        word_in_topic[topics[i]][words[i]]+=1\n",
    "    else:\n",
    "        word_in_topic[topics[i]][words[i]] = 1\n",
    "\n"
   ]
  },
  {
   "cell_type": "code",
   "execution_count": 13,
   "metadata": {},
   "outputs": [],
   "source": [
    "def collapsed_gibbs(alpha, beta, K, words, topics, docs, total_counter, topic_in_doc, word_in_topic):\n",
    "    rand_permutation = np.random.permutation(len(words))\n",
    "    prob = [0 for i in range(K)]\n",
    "\n",
    "    for n in range(500):\n",
    "        for w in rand_permutation:\n",
    "            word = words[w]\n",
    "            document = docs[w]\n",
    "            topic = topics[w]\n",
    "            #print(word,document,topic)\n",
    "            topic_in_doc[document][topic] -=1\n",
    "            word_in_topic[topic][word] -=1\n",
    "            \n",
    "            for i in range(K):\n",
    "                if word not in word_in_topic[i]:\n",
    "                    word_in_topic[i][word] = 0\n",
    "                term1 = (word_in_topic[i][word] + beta) / (len(total_counter)*beta + sum(word_in_topic[i].values()))\n",
    "                term2 = (topic_in_doc[document][i] + alpha) / (K*alpha + sum(topic_in_doc[document]))\n",
    "                prob[i] = term1 * term2\n",
    "\n",
    "            # normalize probabilities\n",
    "            sum_p = sum(prob)\n",
    "            #print(sum_p)\n",
    "            for i in range(K):\n",
    "                prob[i] = prob[i]/sum_p\n",
    "            \n",
    "            #print(prob)\n",
    "            #print(np.random.choice(np.arange(K), p = prob))\n",
    "            topics[w] = np.random.choice(np.arange(K),p = prob)\n",
    "            topic_in_doc[document][topics[w]] +=1\n",
    "            if word in word_in_topic[topics[w]]:\n",
    "                word_in_topic[topics[w]][word] +=1\n",
    "            else:\n",
    "                word_in_topic[topics[w]][word] = 1\n",
    "    return word_in_topic"
   ]
  },
  {
   "cell_type": "code",
   "execution_count": 14,
   "metadata": {},
   "outputs": [],
   "source": [
    "ans1 = collapsed_gibbs(alpha, beta, K, words, topics, docs, total_counter, topic_in_doc, word_in_topic)"
   ]
  },
  {
   "cell_type": "code",
   "execution_count": 15,
   "metadata": {},
   "outputs": [
    {
     "name": "stdout",
     "output_type": "stream",
     "text": [
      "Topic 1 : loan bank dollars \n",
      "Topic 2 : bank water river \n"
     ]
    }
   ],
   "source": [
    "for i in range(2):\n",
    "    print(\"Topic \"+str(i+1)+\" : \",end = \"\" )\n",
    "    for word,_ in sorted(ans1[i].items(), key=itemgetter(1), reverse = True)[0:3]:\n",
    "        print(word, end = \" \")\n",
    "    print()\n",
    "    "
   ]
  },
  {
   "cell_type": "markdown",
   "metadata": {},
   "source": [
    "We get the output of the 2 topics as expected. Seems like LDA is working."
   ]
  },
  {
   "cell_type": "code",
   "execution_count": 16,
   "metadata": {},
   "outputs": [],
   "source": [
    "file_list = []\n",
    "total_counter = Counter()\n",
    "words = []\n",
    "docs = []\n",
    "K = 20\n",
    "topics = []\n",
    "for i in range(1,201,1):\n",
    "    file_name = r\"pp4data\\pp4data\\20newsgroups\\\\\" + str(i)\n",
    "    with open(file_name) as file:\n",
    "        file_data = file.read()\n",
    "        c = Counter(file_data.split())\n",
    "        for word in (file_data.split()):\n",
    "            words.append(word)\n",
    "            docs.append(i - 1)\n",
    "            topics.append(random.randint(0, K - 1))\n",
    "        file_list.append(c)\n",
    "        total_counter+=c"
   ]
  },
  {
   "cell_type": "code",
   "execution_count": 17,
   "metadata": {},
   "outputs": [],
   "source": [
    "# K denotes the no of topics\n",
    "alpha = 5/20\n",
    "beta = 0.01\n",
    "topic_in_doc = []\n",
    "for d in range(200):\n",
    "    topic_in_doc.append([0 for i in range(K)])\n",
    "    \n",
    "for i in range(len(words)):\n",
    "    topic_in_doc[docs[i]][topics[i]]+=1\n",
    "    \n",
    "word_in_topic = [{} for i in range(K)]\n",
    "\n",
    "for i in range(len(words)):\n",
    "    if words[i] in word_in_topic[topics[i]]:\n",
    "        word_in_topic[topics[i]][words[i]]+=1\n",
    "    else:\n",
    "        word_in_topic[topics[i]][words[i]] = 1\n"
   ]
  },
  {
   "cell_type": "code",
   "execution_count": 18,
   "metadata": {},
   "outputs": [],
   "source": [
    "ans = collapsed_gibbs(alpha, beta, K, words, topics, docs, total_counter, topic_in_doc, word_in_topic)"
   ]
  },
  {
   "cell_type": "code",
   "execution_count": 19,
   "metadata": {},
   "outputs": [
    {
     "name": "stdout",
     "output_type": "stream",
     "text": [
      "edu, people, eliot, washington, use\n",
      "henry, edu, toronto, spencer, writes\n",
      "car, clutch, don, ford, shifter\n",
      "writes, edu, article, apr, don\n",
      "space, nasa, long, science, sci\n",
      "oil, service, time, come, change\n",
      "system, nasa, mission, gov, oort\n",
      "find, uiuc, read, never, two\n",
      "station, option, redesign, capability, team\n",
      "sky, bill, moon, light, rights\n",
      "car, engine, driving, used, toyota\n",
      "edu, gif, uci, ics, incoming\n",
      "hst, mission, pat, access, net\n",
      "shuttle, launch, space, cost, two\n",
      "book, mustang, part, george, ford\n",
      "insurance, want, make, money, geico\n",
      "earth, etc, time, life, question\n",
      "cars, heard, seat, torque, diesels\n",
      "edu, internet, information, university, resources\n",
      "good, point, large, even, such\n"
     ]
    }
   ],
   "source": [
    "with open(r\"C:\\Users\\rauna\\OneDrive\\Documents\\Python Scripts\\pp4\\topicwords.csv\",\"w\") as f:\n",
    "    f.write(\"\")\n",
    "\n",
    "with open(r\"C:\\Users\\rauna\\OneDrive\\Documents\\Python Scripts\\pp4\\topicwords.csv\", \"a\") as f:\n",
    "    for i in range(K):\n",
    "        li = []\n",
    "        for word,_ in sorted(ans[i].items(), key=itemgetter(1), reverse = True)[0:5]:\n",
    "            li.append(word)\n",
    "        row = (', ').join(li)\n",
    "        print(row)\n",
    "        f.write(row+'\\n')"
   ]
  },
  {
   "cell_type": "markdown",
   "metadata": {},
   "source": [
    "The results obtained by LDA do make sense. This can be observed particularly in topic 5 (space, nasa, long, science, sci) which is about space and topic 18 (cars, heard, seat, torque, diesels) which is about cars. Most of the topics have some related words."
   ]
  },
  {
   "cell_type": "code",
   "execution_count": 20,
   "metadata": {},
   "outputs": [],
   "source": [
    "def bayasian_logistic_reg(X, t):\n",
    "    time_vector = []\n",
    "    start_time = time.time()\n",
    "    alpha = 0.1\n",
    "    X.reset_index(inplace = True, drop = True)\n",
    "    #col = pd.DataFrame(np.ones((np.shape(X)[0],1)))\n",
    "    \n",
    "    #X['bias'] = col\n",
    "\n",
    "    w_old = np.zeros((np.shape(X)[1],1))\n",
    "    time_vector.append((w_old, time.time() - start_time))\n",
    "\n",
    "    b = np.dot(X, w_old)\n",
    "    y = expit(b)\n",
    "    a =   y*(1 - y)\n",
    "    R = np.diagflat(a)\n",
    "    mat = np.dot(np.dot((X.T),R),(X))\n",
    "    w_new = w_old - (np.dot(inv(alpha*np.identity(np.shape(mat)[0]) + mat), (np.dot(X.T, y - t) + alpha*w_old)))\n",
    "    time_vector.append((w_new, time.time() - start_time))\n",
    "    n = 1\n",
    "    while(((LA.norm(w_new - w_old) / LA.norm(w_old)) > 10**(-3)) and (n <= 100)):\n",
    "        w_old = w_new\n",
    "        b = np.dot(X, w_old)\n",
    "        y = expit(b)\n",
    "        a =   y*(1 - y)\n",
    "        R = np.diagflat(a)\n",
    "        mat = np.dot(np.dot((X.T),R),X)\n",
    "        w_new = w_old - (np.dot(inv(alpha*np.identity(np.shape(mat)[0]) + mat), (np.dot(X.T, y - t) + alpha*w_old)))\n",
    "        time_vector.append((w_new, time.time() - start_time))\n",
    "        n+=1\n",
    "\n",
    "    return w_new, time_vector"
   ]
  },
  {
   "cell_type": "code",
   "execution_count": 21,
   "metadata": {},
   "outputs": [],
   "source": [
    "X = []\n",
    "for j in range(200):\n",
    "    li = []\n",
    "    for (word, count) in dict(total_counter).items():\n",
    "        if(word in file_list[j]):\n",
    "            li.append(file_list[j][word])\n",
    "        else:\n",
    "            li.append(0)\n",
    "    X.append(li)\n",
    "\n",
    "X = pd.DataFrame(X)\n",
    "X['bias'] = pd.DataFrame(np.ones((np.shape(X)[0],1)))\n",
    "file_name = r\"pp4data\\pp4data\\20newsgroups\\index.csv\"\n",
    "data = pd.read_csv(file_name, header = None)\n",
    "t  = pd.DataFrame(data[data.columns[1]])\n",
    "\n",
    "\n",
    "train_acc_bow = {}\n",
    "\n",
    "for i in range(30):\n",
    "    X_train, X_test, y_train, y_test = train_test_split(X, t, test_size=(1/3))\n",
    "    for j in range(0,len(X_train),10):\n",
    "        if j not in train_acc_bow:\n",
    "            train_acc_bow[j] = []\n",
    "\n",
    "        _, X_tr, _ , y_tr = train_test_split(X_train, y_train, test_size=(j/(len(X_train))))\n",
    "        w, time_vector = bayasian_logistic_reg(X_tr, y_tr)\n",
    "        y = expit(np.dot(X_test, w))\n",
    "        prob = [1 if a > 0.5 else 0 for a in y]\n",
    "        train_acc_bow[j].append(1 - accuracy_score(prob, y_test))"
   ]
  },
  {
   "cell_type": "code",
   "execution_count": 26,
   "metadata": {},
   "outputs": [],
   "source": [
    "X = pd.DataFrame(topic_in_doc)\n",
    "X['bias'] = pd.DataFrame(np.ones((np.shape(X)[0],1)))\n",
    "\n",
    "file_name = r\"pp4data\\pp4data\\20newsgroups\\index.csv\"\n",
    "data = pd.read_csv(file_name, header = None)\n",
    "t  = pd.DataFrame(data[data.columns[1]])\n",
    "\n",
    "train_acc_lda = {}\n",
    "\n",
    "for i in range(30):\n",
    "    X_train, X_test, y_train, y_test = train_test_split(X, t, test_size=(1/3))\n",
    "    for j in range(0,len(X_train),10):\n",
    "        if j not in train_acc_lda:\n",
    "            train_acc_lda[j] = []\n",
    "\n",
    "        _, X_tr, _ , y_tr = train_test_split(X_train, y_train, test_size=(j/(len(X_train))))\n",
    "        w, time_vector = bayasian_logistic_reg(X_tr, y_tr)\n",
    "        y = expit(np.dot(X_test, w))\n",
    "        prob = [1 if a > 0.5 else 0 for a in y]\n",
    "        train_acc_lda[j].append(1 - accuracy_score(prob, y_test))"
   ]
  },
  {
   "cell_type": "code",
   "execution_count": 29,
   "metadata": {},
   "outputs": [
    {
     "data": {
      "image/png": "[encoded data removed]",
      "text/plain": [
       "<Figure size 432x288 with 1 Axes>"
      ]
     },
     "metadata": {},
     "output_type": "display_data"
    }
   ],
   "source": [
    "bow_mean = []\n",
    "bow_size = []\n",
    "bow_std = []\n",
    "\n",
    "for size, accuracy_list in train_acc_bow.items():\n",
    "    bow_mean.append(stat.mean(accuracy_list))\n",
    "    bow_std.append(stat.stdev(accuracy_list))\n",
    "    bow_size.append(size)\n",
    "\n",
    "    \n",
    "lda_mean = []\n",
    "lda_size = []\n",
    "lda_std = []\n",
    "\n",
    "for size, accuracy_list in train_acc_lda.items():\n",
    "    lda_mean.append(stat.mean(accuracy_list))\n",
    "    lda_std.append(stat.stdev(accuracy_list))\n",
    "    lda_size.append(size)\n",
    "    \n",
    "\n",
    "fig, ax = plt.subplots(nrows=1, ncols= 1)\n",
    "\n",
    "fig.tight_layout(pad = 0.5, w_pad = 3, h_pad = 3)\n",
    "ax.errorbar(bow_size, bow_mean, yerr = bow_std, fmt='.', label='Bag of Words')\n",
    "ax.errorbar(lda_size, lda_mean, yerr = lda_std, fmt='.', label='Latent Dirichlet Allocation')\n",
    "ax.legend(loc='upper right')\n",
    "ax.set_ylabel('Accuracy')\n",
    "ax.set_xlabel('size')\n",
    "ax.set_title(\"Train size vs Accuracy\")\n",
    "ax.grid(True)\n"
   ]
  },
  {
   "cell_type": "markdown",
   "metadata": {},
   "source": [
    "It seems that when the data size is very small both BOW and LDA have almost similar error rate. But as the size of the data increases BOW has significantly lesser error rate compared to LDA. \n",
    "\n",
    "There could be various reasons for it:\n",
    "1. Maybe LDA hasn't converged in 500 iterations. \n",
    "2. Maybe k = 20 isn't the optimal value for the no of topics. \n",
    "3. Or maybe BOW provides a richer representation compared to LDA for a smaller dataset. For larger documents with lots of topics maybe LDA could work better."
   ]
  }
 ],
 "metadata": {
  "kernelspec": {
   "display_name": "Python 3",
   "language": "python",
   "name": "python3"
  },
  "language_info": {
   "codemirror_mode": {
    "name": "ipython",
    "version": 3
   },
   "file_extension": ".py",
   "mimetype": "text/x-python",
   "name": "python",
   "nbconvert_exporter": "python",
   "pygments_lexer": "ipython3",
   "version": "3.6.5"
  }
 },
 "nbformat": 4,
 "nbformat_minor": 2
}
